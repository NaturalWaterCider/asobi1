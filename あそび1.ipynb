{
  "nbformat": 4,
  "nbformat_minor": 0,
  "metadata": {
    "colab": {
      "name": "あそび1.ipynb",
      "provenance": [],
      "collapsed_sections": [],
      "authorship_tag": "ABX9TyPTg4y2+pG/g95DqAXWmqIi",
      "include_colab_link": true
    },
    "kernelspec": {
      "name": "python3",
      "display_name": "Python 3"
    },
    "language_info": {
      "name": "python"
    }
  },
  "cells": [
    {
      "cell_type": "markdown",
      "metadata": {
        "id": "view-in-github",
        "colab_type": "text"
      },
      "source": [
        "<a href=\"https://colab.research.google.com/github/NaturalWaterCider/asobi1/blob/main/%E3%81%82%E3%81%9D%E3%81%B31.ipynb\" target=\"_parent\"><img src=\"https://colab.research.google.com/assets/colab-badge.svg\" alt=\"Open In Colab\"/></a>"
      ]
    },
    {
      "cell_type": "code",
      "metadata": {
        "id": "8E6lyf1Nswv9"
      },
      "source": [
        "import pandas as pd"
      ],
      "execution_count": 87,
      "outputs": []
    },
    {
      "cell_type": "code",
      "metadata": {
        "colab": {
          "base_uri": "https://localhost:8080/"
        },
        "id": "5RGG52PPt7Ja",
        "outputId": "010413ad-2783-48c7-c8a3-ba05cea5076e"
      },
      "source": [
        "from google.colab import drive\n",
        "drive.mount('/content/drive')"
      ],
      "execution_count": 88,
      "outputs": [
        {
          "output_type": "stream",
          "name": "stdout",
          "text": [
            "Drive already mounted at /content/drive; to attempt to forcibly remount, call drive.mount(\"/content/drive\", force_remount=True).\n"
          ]
        }
      ]
    },
    {
      "cell_type": "code",
      "metadata": {
        "id": "8DABrVJIt9MU"
      },
      "source": [
        "# 路線データ取得\n",
        "lines = pd.read_csv('/content/drive/MyDrive/Data/asobi1/line20210312free.csv')\n",
        "# 駅データ取得\n",
        "stations = pd.read_csv('/content/drive/MyDrive/Data/asobi1/station20210312free.csv')"
      ],
      "execution_count": 89,
      "outputs": []
    },
    {
      "cell_type": "code",
      "metadata": {
        "colab": {
          "base_uri": "https://localhost:8080/",
          "height": 307
        },
        "id": "Ua9_8pfTvmsB",
        "outputId": "11eeea75-7a5d-458a-ce39-22e43e288206"
      },
      "source": [
        "lines.head(5)"
      ],
      "execution_count": 90,
      "outputs": [
        {
          "output_type": "execute_result",
          "data": {
            "text/html": [
              "<div>\n",
              "<style scoped>\n",
              "    .dataframe tbody tr th:only-of-type {\n",
              "        vertical-align: middle;\n",
              "    }\n",
              "\n",
              "    .dataframe tbody tr th {\n",
              "        vertical-align: top;\n",
              "    }\n",
              "\n",
              "    .dataframe thead th {\n",
              "        text-align: right;\n",
              "    }\n",
              "</style>\n",
              "<table border=\"1\" class=\"dataframe\">\n",
              "  <thead>\n",
              "    <tr style=\"text-align: right;\">\n",
              "      <th></th>\n",
              "      <th>line_cd</th>\n",
              "      <th>company_cd</th>\n",
              "      <th>line_name</th>\n",
              "      <th>line_name_k</th>\n",
              "      <th>line_name_h</th>\n",
              "      <th>line_color_c</th>\n",
              "      <th>line_color_t</th>\n",
              "      <th>line_type</th>\n",
              "      <th>lon</th>\n",
              "      <th>lat</th>\n",
              "      <th>zoom</th>\n",
              "      <th>e_status</th>\n",
              "      <th>e_sort</th>\n",
              "    </tr>\n",
              "  </thead>\n",
              "  <tbody>\n",
              "    <tr>\n",
              "      <th>0</th>\n",
              "      <td>1001</td>\n",
              "      <td>3</td>\n",
              "      <td>中央新幹線</td>\n",
              "      <td>チュウオウシンカンセン</td>\n",
              "      <td>中央新幹線</td>\n",
              "      <td>NaN</td>\n",
              "      <td>NaN</td>\n",
              "      <td>NaN</td>\n",
              "      <td>137.493896</td>\n",
              "      <td>35.411438</td>\n",
              "      <td>8</td>\n",
              "      <td>1</td>\n",
              "      <td>1001</td>\n",
              "    </tr>\n",
              "    <tr>\n",
              "      <th>1</th>\n",
              "      <td>1002</td>\n",
              "      <td>3</td>\n",
              "      <td>東海道新幹線</td>\n",
              "      <td>トウカイドウシンカンセン</td>\n",
              "      <td>東海道新幹線</td>\n",
              "      <td>NaN</td>\n",
              "      <td>NaN</td>\n",
              "      <td>NaN</td>\n",
              "      <td>137.721489</td>\n",
              "      <td>35.144122</td>\n",
              "      <td>7</td>\n",
              "      <td>0</td>\n",
              "      <td>1002</td>\n",
              "    </tr>\n",
              "    <tr>\n",
              "      <th>2</th>\n",
              "      <td>1003</td>\n",
              "      <td>4</td>\n",
              "      <td>山陽新幹線</td>\n",
              "      <td>サンヨウシンカンセン</td>\n",
              "      <td>山陽新幹線</td>\n",
              "      <td>NaN</td>\n",
              "      <td>NaN</td>\n",
              "      <td>NaN</td>\n",
              "      <td>133.147896</td>\n",
              "      <td>34.419338</td>\n",
              "      <td>7</td>\n",
              "      <td>0</td>\n",
              "      <td>1003</td>\n",
              "    </tr>\n",
              "    <tr>\n",
              "      <th>3</th>\n",
              "      <td>1004</td>\n",
              "      <td>2</td>\n",
              "      <td>東北新幹線</td>\n",
              "      <td>トウホクシンカンセン</td>\n",
              "      <td>東北新幹線</td>\n",
              "      <td>NaN</td>\n",
              "      <td>NaN</td>\n",
              "      <td>NaN</td>\n",
              "      <td>140.763192</td>\n",
              "      <td>38.274267</td>\n",
              "      <td>7</td>\n",
              "      <td>0</td>\n",
              "      <td>1004</td>\n",
              "    </tr>\n",
              "    <tr>\n",
              "      <th>4</th>\n",
              "      <td>1005</td>\n",
              "      <td>2</td>\n",
              "      <td>上越新幹線</td>\n",
              "      <td>ジョウエツシンカンセン</td>\n",
              "      <td>上越新幹線</td>\n",
              "      <td>NaN</td>\n",
              "      <td>NaN</td>\n",
              "      <td>NaN</td>\n",
              "      <td>139.121488</td>\n",
              "      <td>36.798565</td>\n",
              "      <td>8</td>\n",
              "      <td>0</td>\n",
              "      <td>1005</td>\n",
              "    </tr>\n",
              "  </tbody>\n",
              "</table>\n",
              "</div>"
            ],
            "text/plain": [
              "   line_cd  company_cd line_name  ... zoom e_status e_sort\n",
              "0     1001           3     中央新幹線  ...    8        1   1001\n",
              "1     1002           3    東海道新幹線  ...    7        0   1002\n",
              "2     1003           4     山陽新幹線  ...    7        0   1003\n",
              "3     1004           2     東北新幹線  ...    7        0   1004\n",
              "4     1005           2     上越新幹線  ...    8        0   1005\n",
              "\n",
              "[5 rows x 13 columns]"
            ]
          },
          "metadata": {},
          "execution_count": 90
        }
      ]
    },
    {
      "cell_type": "code",
      "metadata": {
        "colab": {
          "base_uri": "https://localhost:8080/",
          "height": 408
        },
        "id": "j-cI4kHCvo8r",
        "outputId": "e7dd88e5-c32c-483b-9af1-0ec463f02fee"
      },
      "source": [
        "stations.head(5)"
      ],
      "execution_count": 91,
      "outputs": [
        {
          "output_type": "execute_result",
          "data": {
            "text/html": [
              "<div>\n",
              "<style scoped>\n",
              "    .dataframe tbody tr th:only-of-type {\n",
              "        vertical-align: middle;\n",
              "    }\n",
              "\n",
              "    .dataframe tbody tr th {\n",
              "        vertical-align: top;\n",
              "    }\n",
              "\n",
              "    .dataframe thead th {\n",
              "        text-align: right;\n",
              "    }\n",
              "</style>\n",
              "<table border=\"1\" class=\"dataframe\">\n",
              "  <thead>\n",
              "    <tr style=\"text-align: right;\">\n",
              "      <th></th>\n",
              "      <th>station_cd</th>\n",
              "      <th>station_g_cd</th>\n",
              "      <th>station_name</th>\n",
              "      <th>station_name_k</th>\n",
              "      <th>station_name_r</th>\n",
              "      <th>line_cd</th>\n",
              "      <th>pref_cd</th>\n",
              "      <th>post</th>\n",
              "      <th>address</th>\n",
              "      <th>lon</th>\n",
              "      <th>lat</th>\n",
              "      <th>open_ymd</th>\n",
              "      <th>close_ymd</th>\n",
              "      <th>e_status</th>\n",
              "      <th>e_sort</th>\n",
              "    </tr>\n",
              "  </thead>\n",
              "  <tbody>\n",
              "    <tr>\n",
              "      <th>0</th>\n",
              "      <td>1110101</td>\n",
              "      <td>1110101</td>\n",
              "      <td>函館</td>\n",
              "      <td>NaN</td>\n",
              "      <td>NaN</td>\n",
              "      <td>11101</td>\n",
              "      <td>1</td>\n",
              "      <td>040-0063</td>\n",
              "      <td>北海道函館市若松町１２-１３</td>\n",
              "      <td>140.726413</td>\n",
              "      <td>41.773709</td>\n",
              "      <td>1902-12-10</td>\n",
              "      <td>0000-00-00</td>\n",
              "      <td>0</td>\n",
              "      <td>1110101</td>\n",
              "    </tr>\n",
              "    <tr>\n",
              "      <th>1</th>\n",
              "      <td>1110102</td>\n",
              "      <td>1110102</td>\n",
              "      <td>五稜郭</td>\n",
              "      <td>NaN</td>\n",
              "      <td>NaN</td>\n",
              "      <td>11101</td>\n",
              "      <td>1</td>\n",
              "      <td>041-0813</td>\n",
              "      <td>函館市亀田本町</td>\n",
              "      <td>140.733539</td>\n",
              "      <td>41.803557</td>\n",
              "      <td>0000-00-00</td>\n",
              "      <td>0000-00-00</td>\n",
              "      <td>0</td>\n",
              "      <td>1110102</td>\n",
              "    </tr>\n",
              "    <tr>\n",
              "      <th>2</th>\n",
              "      <td>1110103</td>\n",
              "      <td>1110103</td>\n",
              "      <td>桔梗</td>\n",
              "      <td>NaN</td>\n",
              "      <td>NaN</td>\n",
              "      <td>11101</td>\n",
              "      <td>1</td>\n",
              "      <td>041-0801</td>\n",
              "      <td>北海道函館市桔梗３丁目４１-３６</td>\n",
              "      <td>140.722952</td>\n",
              "      <td>41.846457</td>\n",
              "      <td>1902-12-10</td>\n",
              "      <td>0000-00-00</td>\n",
              "      <td>0</td>\n",
              "      <td>1110103</td>\n",
              "    </tr>\n",
              "    <tr>\n",
              "      <th>3</th>\n",
              "      <td>1110104</td>\n",
              "      <td>1110104</td>\n",
              "      <td>大中山</td>\n",
              "      <td>NaN</td>\n",
              "      <td>NaN</td>\n",
              "      <td>11101</td>\n",
              "      <td>1</td>\n",
              "      <td>041-1121</td>\n",
              "      <td>亀田郡七飯町大字大中山</td>\n",
              "      <td>140.713580</td>\n",
              "      <td>41.864641</td>\n",
              "      <td>0000-00-00</td>\n",
              "      <td>0000-00-00</td>\n",
              "      <td>0</td>\n",
              "      <td>1110104</td>\n",
              "    </tr>\n",
              "    <tr>\n",
              "      <th>4</th>\n",
              "      <td>1110105</td>\n",
              "      <td>1110105</td>\n",
              "      <td>七飯</td>\n",
              "      <td>NaN</td>\n",
              "      <td>NaN</td>\n",
              "      <td>11101</td>\n",
              "      <td>1</td>\n",
              "      <td>041-1111</td>\n",
              "      <td>亀田郡七飯町字本町</td>\n",
              "      <td>140.688556</td>\n",
              "      <td>41.886971</td>\n",
              "      <td>0000-00-00</td>\n",
              "      <td>0000-00-00</td>\n",
              "      <td>0</td>\n",
              "      <td>1110105</td>\n",
              "    </tr>\n",
              "  </tbody>\n",
              "</table>\n",
              "</div>"
            ],
            "text/plain": [
              "   station_cd  station_g_cd station_name  ...   close_ymd  e_status   e_sort\n",
              "0     1110101       1110101           函館  ...  0000-00-00         0  1110101\n",
              "1     1110102       1110102          五稜郭  ...  0000-00-00         0  1110102\n",
              "2     1110103       1110103           桔梗  ...  0000-00-00         0  1110103\n",
              "3     1110104       1110104          大中山  ...  0000-00-00         0  1110104\n",
              "4     1110105       1110105           七飯  ...  0000-00-00         0  1110105\n",
              "\n",
              "[5 rows x 15 columns]"
            ]
          },
          "metadata": {},
          "execution_count": 91
        }
      ]
    },
    {
      "cell_type": "code",
      "metadata": {
        "id": "dk0DXFXRwQcj"
      },
      "source": [
        "#ほしい路線の路線コードだけとってくる\n",
        "lines = lines[lines.line_name.str.contains('JR山手線|東京メトロ|都営|都電')]"
      ],
      "execution_count": 92,
      "outputs": []
    },
    {
      "cell_type": "code",
      "metadata": {
        "id": "BTKiK6-6yLbv"
      },
      "source": [
        "lines = lines['line_cd']"
      ],
      "execution_count": 93,
      "outputs": []
    },
    {
      "cell_type": "code",
      "metadata": {
        "colab": {
          "base_uri": "https://localhost:8080/"
        },
        "id": "hHVvgKM_yinC",
        "outputId": "3edbc7b3-86dc-4dcd-d238-4c89dec86fd0"
      },
      "source": [
        "lines"
      ],
      "execution_count": 94,
      "outputs": [
        {
          "output_type": "execute_result",
          "data": {
            "text/plain": [
              "62     11302\n",
              "282    28001\n",
              "283    28002\n",
              "284    28003\n",
              "285    28004\n",
              "286    28005\n",
              "287    28006\n",
              "288    28008\n",
              "289    28009\n",
              "290    28010\n",
              "401    99301\n",
              "402    99302\n",
              "403    99303\n",
              "404    99304\n",
              "405    99305\n",
              "Name: line_cd, dtype: int64"
            ]
          },
          "metadata": {},
          "execution_count": 94
        }
      ]
    },
    {
      "cell_type": "code",
      "metadata": {
        "id": "aGUErp6vLkNd"
      },
      "source": [
        "# ほしい路線の駅だけとってくる\n",
        "stations = stations.query(\"line_cd in @lines\")"
      ],
      "execution_count": 95,
      "outputs": []
    },
    {
      "cell_type": "code",
      "metadata": {
        "id": "Vs46roS6N4pE"
      },
      "source": [
        "# 重複をなくす(いちがやは諦める)\n",
        "stations = stations['station_name'].unique()"
      ],
      "execution_count": 96,
      "outputs": []
    },
    {
      "cell_type": "code",
      "metadata": {
        "colab": {
          "base_uri": "https://localhost:8080/"
        },
        "id": "RmESQsjvN_UB",
        "outputId": "22ea16a1-2c72-40a5-b74f-230dc8e8e881"
      },
      "source": [
        "stations"
      ],
      "execution_count": 97,
      "outputs": [
        {
          "output_type": "execute_result",
          "data": {
            "text/plain": [
              "array(['大崎', '五反田', '目黒', '恵比寿', '渋谷', '原宿', '代々木', '新宿', '新大久保', '高田馬場',\n",
              "       '目白', '池袋', '大塚', '巣鴨', '駒込', '田端', '西日暮里', '日暮里', '鶯谷', '上野',\n",
              "       '御徒町', '秋葉原', '神田', '東京', '有楽町', '新橋', '浜松町', '田町', '高輪ゲートウェイ',\n",
              "       '品川', '浅草', '田原町', '稲荷町', '上野広小路', '末広町', '三越前', '日本橋', '京橋', '銀座',\n",
              "       '虎ノ門', '溜池山王', '赤坂見附', '青山一丁目', '外苑前', '表参道', '新大塚', '茗荷谷', '後楽園',\n",
              "       '本郷三丁目', '御茶ノ水', '淡路町', '大手町', '霞ケ関', '国会議事堂前', '四ツ谷', '四谷三丁目',\n",
              "       '新宿御苑前', '新宿三丁目', '西新宿', '中野坂上', '新中野', '東高円寺', '新高円寺', '南阿佐ケ谷',\n",
              "       '荻窪', '中野新橋', '中野富士見町', '方南町', '北千住', '南千住', '三ノ輪', '入谷', '仲御徒町',\n",
              "       '小伝馬町', '人形町', '茅場町', '八丁堀', '築地', '東銀座', '日比谷', '虎ノ門ヒルズ', '神谷町',\n",
              "       '六本木', '広尾', '中目黒', '中野', '落合', '早稲田', '神楽坂', '飯田橋', '九段下', '竹橋',\n",
              "       '門前仲町', '木場', '東陽町', '南砂町', '西葛西', '葛西', '浦安', '南行徳', '行徳', '妙典',\n",
              "       '原木中山', '西船橋', '北綾瀬', '綾瀬', '町屋', '千駄木', '根津', '湯島', '新御茶ノ水',\n",
              "       '二重橋前', '赤坂', '乃木坂', '明治神宮前〈原宿〉', '代々木公園', '代々木上原', '和光市', '地下鉄成増',\n",
              "       '地下鉄赤塚', '平和台', '氷川台', '小竹向原', '千川', '要町', '東池袋', '護国寺', '江戸川橋',\n",
              "       '市ケ谷', '麹町', '永田町', '桜田門', '銀座一丁目', '新富町', '月島', '豊洲', '辰巳', '新木場',\n",
              "       '半蔵門', '神保町', '水天宮前', '清澄白河', '住吉', '錦糸町', '押上〈スカイツリー前〉', '赤羽岩淵',\n",
              "       '志茂', '王子神谷', '王子', '西ケ原', '本駒込', '東大前', '六本木一丁目', '麻布十番', '白金高輪',\n",
              "       '白金台', '雑司が谷', '西早稲田', '東新宿', '北参道', '都庁前', '新宿西口', '若松河田', '牛込柳町',\n",
              "       '牛込神楽坂', '春日', '上野御徒町', '新御徒町', '蔵前', '両国', '森下', '勝どき', '築地市場',\n",
              "       '汐留', '大門', '赤羽橋', '国立競技場', '西新宿五丁目', '東中野', '中井', '落合南長崎', '新江古田',\n",
              "       '練馬', '豊島園', '練馬春日町', '光が丘', '西馬込', '馬込', '中延', '戸越', '高輪台', '泉岳寺',\n",
              "       '三田', '宝町', '東日本橋', '浅草橋', '本所吾妻橋', '押上（スカイツリー前）', '芝公園', '御成門',\n",
              "       '内幸町', '水道橋', '白山', '千石', '西巣鴨', '新板橋', '板橋区役所前', '板橋本町', '本蓮沼',\n",
              "       '志村坂上', '志村三丁目', '蓮根', '西台', '高島平', '新高島平', '西高島平', '曙橋', '市ヶ谷',\n",
              "       '小川町', '岩本町', '馬喰横山', '浜町', '菊川', '西大島', '大島', '東大島', '船堀', '一之江',\n",
              "       '瑞江', '篠崎', '本八幡', '三ノ輪橋', '荒川一中前', '荒川区役所前', '荒川二丁目', '荒川七丁目',\n",
              "       '町屋駅前', '町屋二丁目', '東尾久三丁目', '熊野前', '宮ノ前', '小台', '荒川遊園地前', '荒川車庫前',\n",
              "       '梶原', '栄町', '王子駅前', '飛鳥山', '滝野川一丁目', '西ヶ原四丁目', '新庚申塚', '庚申塚',\n",
              "       '巣鴨新田', '大塚駅前', '向原', '東池袋四丁目', '都電雑司ヶ谷', '鬼子母神前', '学習院下', '面影橋'],\n",
              "      dtype=object)"
            ]
          },
          "metadata": {},
          "execution_count": 97
        }
      ]
    },
    {
      "cell_type": "code",
      "metadata": {
        "id": "q6xlcp6sO9KG"
      },
      "source": [
        "import random"
      ],
      "execution_count": 98,
      "outputs": []
    },
    {
      "cell_type": "code",
      "metadata": {
        "colab": {
          "base_uri": "https://localhost:8080/"
        },
        "id": "SLuyIA9wPNaD",
        "outputId": "57679bb9-ad7f-4e11-b494-6b6f3a5e914f"
      },
      "source": [
        "# 目的地を選ぶ\n",
        "dest = random.choice(stations)\n",
        "print(dest)"
      ],
      "execution_count": 99,
      "outputs": [
        {
          "output_type": "stream",
          "name": "stdout",
          "text": [
            "光が丘\n"
          ]
        }
      ]
    },
    {
      "cell_type": "code",
      "metadata": {
        "id": "ygVocFk9PRVN"
      },
      "source": [
        ""
      ],
      "execution_count": 99,
      "outputs": []
    }
  ]
}